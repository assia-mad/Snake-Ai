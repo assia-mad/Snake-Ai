{
  "nbformat": 4,
  "nbformat_minor": 0,
  "metadata": {
    "colab": {
      "provenance": []
    },
    "kernelspec": {
      "name": "python3",
      "display_name": "Python 3"
    },
    "language_info": {
      "name": "python"
    }
  },
  "cells": [
    {
      "cell_type": "code",
      "execution_count": 1,
      "metadata": {
        "colab": {
          "base_uri": "https://localhost:8080/"
        },
        "id": "i8ScsekwkyBQ",
        "outputId": "fade4592-04ff-48ef-c176-3c136cc9764a"
      },
      "outputs": [
        {
          "output_type": "stream",
          "name": "stdout",
          "text": [
            "Requirement already satisfied: pygame in /usr/local/lib/python3.10/dist-packages (2.5.0)\n"
          ]
        }
      ],
      "source": [
        "!pip install pygame"
      ]
    },
    {
      "cell_type": "code",
      "source": [
        "import pygame\n",
        "import random\n",
        "\n",
        "pygame.init()\n",
        "\n",
        "# Game settings\n",
        "window_size = (800, 600)\n",
        "cell_size = 20\n",
        "snake_speed = 150"
      ],
      "metadata": {
        "colab": {
          "base_uri": "https://localhost:8080/"
        },
        "id": "_vwTq__Fl9er",
        "outputId": "bd51c1d7-7b6a-4c06-a5b0-8a86b99c84eb"
      },
      "execution_count": 2,
      "outputs": [
        {
          "output_type": "stream",
          "name": "stdout",
          "text": [
            "pygame 2.5.0 (SDL 2.28.0, Python 3.10.6)\n",
            "Hello from the pygame community. https://www.pygame.org/contribute.html\n"
          ]
        }
      ]
    },
    {
      "cell_type": "code",
      "source": [
        "# Colors\n",
        "black = (0, 0, 0)\n",
        "white = (255, 255, 255)\n",
        "red = (255, 0, 0)\n",
        "green = (0, 255, 0)"
      ],
      "metadata": {
        "id": "M6LQkmAJtFsK"
      },
      "execution_count": 3,
      "outputs": []
    },
    {
      "cell_type": "code",
      "source": [
        "# Initialize the game window\n",
        "window = pygame.display.set_mode(window_size)\n",
        "pygame.display.set_caption('Snake Game')"
      ],
      "metadata": {
        "id": "iVViNpF2tI8d"
      },
      "execution_count": 4,
      "outputs": []
    },
    {
      "cell_type": "code",
      "source": [
        "# initial positions\n",
        "snake = [(window_size[0] // 2, window_size[1] // 2)]\n",
        "snake_direction = (1, 0)\n",
        "food = (random.randint(0, (window_size[0] - cell_size) // cell_size) * cell_size,\n",
        "        random.randint(0, (window_size[1] - cell_size) // cell_size) * cell_size)"
      ],
      "metadata": {
        "id": "Pd80HKhxtPtX"
      },
      "execution_count": 5,
      "outputs": []
    },
    {
      "cell_type": "code",
      "source": [
        "# Q-learning parameters\n",
        "learning_rate = 0.1\n",
        "discount_factor = 0.9\n",
        "exploration_rate = 0.1\n",
        "q_table = {}"
      ],
      "metadata": {
        "id": "JplGM4q5uHWu"
      },
      "execution_count": 6,
      "outputs": []
    },
    {
      "cell_type": "code",
      "source": [
        "def discretize_state(state):\n",
        "    snake, food = state\n",
        "    head_x, head_y = snake[0]\n",
        "    food_x, food_y = food\n",
        "    return ((head_x // cell_size, head_y // cell_size), (food_x // cell_size, food_y // cell_size))"
      ],
      "metadata": {
        "id": "qg5ZowejuM6d"
      },
      "execution_count": 14,
      "outputs": []
    },
    {
      "cell_type": "code",
      "source": [
        "def get_best_action(state):\n",
        "    state = discretize_state(state)\n",
        "    if state not in q_table:\n",
        "        q_table[state] = [0, 0, 0, 0]\n",
        "    if random.random() < exploration_rate:\n",
        "        return random.randint(0, 3)\n",
        "    return q_table[state].index(max(q_table[state]))"
      ],
      "metadata": {
        "id": "BtB9vx2lvBsB"
      },
      "execution_count": 15,
      "outputs": []
    },
    {
      "cell_type": "code",
      "source": [
        "def update_q_values(state, action, next_state, reward):\n",
        "    state = discretize_state(state)\n",
        "    next_state = discretize_state(next_state)\n",
        "    if state not in q_table:\n",
        "        q_table[state] = [0, 0, 0, 0]  # Initialize Q-values for the new state\n",
        "    if next_state not in q_table:\n",
        "        q_table[next_state] = [0, 0, 0, 0]  # Initialize Q-values for the new next state\n",
        "    q_table[state][action] = q_table[state][action] + learning_rate * (reward + discount_factor * max(q_table[next_state]) - q_table[state][action])\n"
      ],
      "metadata": {
        "id": "nVHNFYIWvIHy"
      },
      "execution_count": 16,
      "outputs": []
    },
    {
      "cell_type": "code",
      "source": [
        "# Game\n",
        "clock = pygame.time.Clock()\n",
        "running = True\n",
        "\n",
        "while running:\n",
        "    for event in pygame.event.get():\n",
        "        if event.type == pygame.QUIT:\n",
        "            running = False\n",
        "\n",
        "    action = get_best_action((snake, food))\n",
        "\n",
        "    keys = pygame.key.get_pressed()\n",
        "    if action == 0 and snake_direction != (1, 0):  # Left\n",
        "        snake_direction = (-1, 0)\n",
        "    elif action == 1 and snake_direction != (-1, 0):  # Right\n",
        "        snake_direction = (1, 0)\n",
        "    elif action == 2 and snake_direction != (0, 1):  # Up\n",
        "        snake_direction = (0, -1)\n",
        "    elif action == 3 and snake_direction != (0, -1):  # Down\n",
        "        snake_direction = (0, 1)\n",
        "\n",
        "    head_x, head_y = snake[0]\n",
        "    new_head = (head_x + snake_direction[0] * cell_size, head_y + snake_direction[1] * cell_size)\n",
        "    snake = [new_head] + snake[:-1]\n",
        "\n",
        "    # Check for collision with food\n",
        "    if new_head == food:\n",
        "        food = (random.randint(0, (window_size[0] - cell_size) // cell_size) * cell_size,\n",
        "                random.randint(0, (window_size[1] - cell_size) // cell_size) * cell_size)\n",
        "        snake.append(snake[-1])\n",
        "\n",
        "    # Check for collision with walls or self\n",
        "    if new_head[0] < 0 or new_head[0] >= window_size[0] or new_head[1] < 0 or new_head[1] >= window_size[1] or new_head in snake[1:]:\n",
        "        running = False\n",
        "\n",
        "    # Update Q-values\n",
        "    reward = 1 if new_head == food else 0\n",
        "    update_q_values((snake, food), action, (snake[1:] + [new_head], food), reward)\n",
        "\n",
        "\n",
        "    window.fill(black)\n",
        "\n",
        "    # Draw the snake\n",
        "    for segment in snake:\n",
        "        pygame.draw.rect(window, green, (segment[0], segment[1], cell_size, cell_size))\n",
        "\n",
        "    # Draw the food\n",
        "    pygame.draw.rect(window, red, (food[0], food[1], cell_size, cell_size))\n",
        "\n",
        "    # Update the display\n",
        "    pygame.display.update()\n",
        "\n",
        "    # Set the game speed\n",
        "    clock.tick(snake_speed)\n",
        "\n",
        "\n",
        "\n",
        "pygame.quit()"
      ],
      "metadata": {
        "id": "59ThogAWvqla"
      },
      "execution_count": 18,
      "outputs": []
    },
    {
      "cell_type": "code",
      "source": [],
      "metadata": {
        "id": "cEV0Lkeov3FE"
      },
      "execution_count": null,
      "outputs": []
    }
  ]
}